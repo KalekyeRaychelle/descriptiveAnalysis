{
 "cells": [
  {
   "cell_type": "code",
   "execution_count": 1,
   "id": "f9a5fbd8",
   "metadata": {
    "execution": {
     "iopub.execute_input": "2025-02-27T10:02:52.536156Z",
     "iopub.status.busy": "2025-02-27T10:02:52.535812Z",
     "iopub.status.idle": "2025-02-27T10:02:55.070411Z",
     "shell.execute_reply": "2025-02-27T10:02:55.069446Z"
    },
    "papermill": {
     "duration": 2.542622,
     "end_time": "2025-02-27T10:02:55.072382",
     "exception": false,
     "start_time": "2025-02-27T10:02:52.529760",
     "status": "completed"
    },
    "tags": []
   },
   "outputs": [],
   "source": [
    "import pandas as pd;\n",
    "import seaborn as sns;\n",
    "import matplotlib.pyplot as plt;"
   ]
  },
  {
   "cell_type": "code",
   "execution_count": 2,
   "id": "9c054152",
   "metadata": {
    "_cell_guid": "b1076dfc-b9ad-4769-8c92-a6c4dae69d19",
    "_uuid": "8f2839f25d086af736a60e9eeb907d3b93b6e0e5",
    "execution": {
     "iopub.execute_input": "2025-02-27T10:02:55.082561Z",
     "iopub.status.busy": "2025-02-27T10:02:55.082008Z",
     "iopub.status.idle": "2025-02-27T10:02:55.092311Z",
     "shell.execute_reply": "2025-02-27T10:02:55.090985Z"
    },
    "papermill": {
     "duration": 0.017047,
     "end_time": "2025-02-27T10:02:55.094105",
     "exception": false,
     "start_time": "2025-02-27T10:02:55.077058",
     "status": "completed"
    },
    "tags": []
   },
   "outputs": [
    {
     "name": "stdout",
     "output_type": "stream",
     "text": [
      "/kaggle/input/spotify-most-popular-songs-dataset/songs.csv\n"
     ]
    }
   ],
   "source": [
    "# This Python 3 environment comes with many helpful analytics libraries installed\n",
    "# It is defined by the kaggle/python Docker image: https://github.com/kaggle/docker-python\n",
    "# For example, here's several helpful packages to load\n",
    "\n",
    "import numpy as np # linear algebra\n",
    "import pandas as pd # data processing, CSV file I/O (e.g. pd.read_csv)\n",
    "\n",
    "# Input data files are available in the read-only \"../input/\" directory\n",
    "# For example, running this (by clicking run or pressing Shift+Enter) will list all files under the input directory\n",
    "\n",
    "import os\n",
    "for dirname, _, filenames in os.walk('/kaggle/input'):\n",
    "    for filename in filenames:\n",
    "        print(os.path.join(dirname, filename))\n",
    "\n",
    "# You can write up to 20GB to the current directory (/kaggle/working/) that gets preserved as output when you create a version using \"Save & Run All\" \n",
    "# You can also write temporary files to /kaggle/temp/, but they won't be saved outside of the current session"
   ]
  },
  {
   "cell_type": "code",
   "execution_count": null,
   "id": "fe40a6a6",
   "metadata": {
    "papermill": {
     "duration": 0.003832,
     "end_time": "2025-02-27T10:02:55.102447",
     "exception": false,
     "start_time": "2025-02-27T10:02:55.098615",
     "status": "completed"
    },
    "tags": []
   },
   "outputs": [],
   "source": []
  },
  {
   "cell_type": "code",
   "execution_count": 3,
   "id": "5d913fb9",
   "metadata": {
    "execution": {
     "iopub.execute_input": "2025-02-27T10:02:55.112202Z",
     "iopub.status.busy": "2025-02-27T10:02:55.111845Z",
     "iopub.status.idle": "2025-02-27T10:02:55.814682Z",
     "shell.execute_reply": "2025-02-27T10:02:55.813611Z"
    },
    "papermill": {
     "duration": 0.709814,
     "end_time": "2025-02-27T10:02:55.816367",
     "exception": false,
     "start_time": "2025-02-27T10:02:55.106553",
     "status": "completed"
    },
    "tags": []
   },
   "outputs": [
    {
     "data": {
      "text/html": [
       "<div>\n",
       "<style scoped>\n",
       "    .dataframe tbody tr th:only-of-type {\n",
       "        vertical-align: middle;\n",
       "    }\n",
       "\n",
       "    .dataframe tbody tr th {\n",
       "        vertical-align: top;\n",
       "    }\n",
       "\n",
       "    .dataframe thead th {\n",
       "        text-align: right;\n",
       "    }\n",
       "</style>\n",
       "<table border=\"1\" class=\"dataframe\">\n",
       "  <thead>\n",
       "    <tr style=\"text-align: right;\">\n",
       "      <th></th>\n",
       "      <th>Unnamed: 0</th>\n",
       "      <th>track_id</th>\n",
       "      <th>track_name</th>\n",
       "      <th>track_artist</th>\n",
       "      <th>track_popularity</th>\n",
       "      <th>track_album_release_date</th>\n",
       "      <th>playlist_genre</th>\n",
       "      <th>danceability</th>\n",
       "      <th>energy</th>\n",
       "      <th>key</th>\n",
       "      <th>...</th>\n",
       "      <th>track_artist_merged</th>\n",
       "      <th>lyrics</th>\n",
       "      <th>artist_name</th>\n",
       "      <th>tags</th>\n",
       "      <th>tags_tokenized</th>\n",
       "      <th>doc_vector</th>\n",
       "      <th>combined_vector</th>\n",
       "      <th>cluster</th>\n",
       "      <th>image_url</th>\n",
       "      <th>spotify_url</th>\n",
       "    </tr>\n",
       "  </thead>\n",
       "  <tbody>\n",
       "    <tr>\n",
       "      <th>0</th>\n",
       "      <td>0</td>\n",
       "      <td>6oJ6le65B3SEqPwMRNXWjY</td>\n",
       "      <td>higher love</td>\n",
       "      <td>Kygo</td>\n",
       "      <td>0.500000</td>\n",
       "      <td>2019-06-28</td>\n",
       "      <td>Pop</td>\n",
       "      <td>0.632680</td>\n",
       "      <td>0.667346</td>\n",
       "      <td>0.727273</td>\n",
       "      <td>...</td>\n",
       "      <td>kygo</td>\n",
       "      <td>['bring', 'me', 'higher', 'love,', 'love', '',...</td>\n",
       "      <td>Kygo</td>\n",
       "      <td>bring higher love love bring higher love think...</td>\n",
       "      <td>['bring', 'higher', 'love', 'love', 'bring', '...</td>\n",
       "      <td>[-0.1148182   0.27755967  0.27891365  0.143460...</td>\n",
       "      <td>[-0.1148182   0.27755967  0.27891365  0.143460...</td>\n",
       "      <td>3</td>\n",
       "      <td>https://i.scdn.co/image/ab67616d0000b2737c8977...</td>\n",
       "      <td>https://open.spotify.com/track/6oJ6le65B3SEqPw...</td>\n",
       "    </tr>\n",
       "    <tr>\n",
       "      <th>1</th>\n",
       "      <td>1</td>\n",
       "      <td>3yNZ5r3LKfdmjoS3gkhUCT</td>\n",
       "      <td>bad guy (with justin bieber)</td>\n",
       "      <td>Billieeilish</td>\n",
       "      <td>0.318182</td>\n",
       "      <td>2019-07-11</td>\n",
       "      <td>Pop</td>\n",
       "      <td>0.602614</td>\n",
       "      <td>0.425904</td>\n",
       "      <td>0.000000</td>\n",
       "      <td>...</td>\n",
       "      <td>billie eilish</td>\n",
       "      <td>['yeah,', 'yeah', '', 'oh,', 'ah', '', 'white'...</td>\n",
       "      <td>Billie Eilish</td>\n",
       "      <td>yeah yeah oh ah white shirt red bloody nose sl...</td>\n",
       "      <td>['yeah', 'yeah', 'oh', 'ah', 'white', 'shirt',...</td>\n",
       "      <td>[-2.95320839e-01 -2.59309914e-03  3.84592146e-...</td>\n",
       "      <td>[-2.95320839e-01 -2.59309914e-03  3.84592146e-...</td>\n",
       "      <td>1</td>\n",
       "      <td>https://i.scdn.co/image/ab67616d0000b273a69b8b...</td>\n",
       "      <td>https://open.spotify.com/track/3yNZ5r3LKfdmjoS...</td>\n",
       "    </tr>\n",
       "    <tr>\n",
       "      <th>2</th>\n",
       "      <td>2</td>\n",
       "      <td>0qc4QlcCxVTGyShurEv1UU</td>\n",
       "      <td>post malone (feat. rani)</td>\n",
       "      <td>Samfeldt</td>\n",
       "      <td>0.318182</td>\n",
       "      <td>2019-05-24</td>\n",
       "      <td>Pop</td>\n",
       "      <td>0.498039</td>\n",
       "      <td>0.628716</td>\n",
       "      <td>0.636364</td>\n",
       "      <td>...</td>\n",
       "      <td>sam feldt</td>\n",
       "      <td>['one', 'more', 'drink,', 'got', 'one', 'more'...</td>\n",
       "      <td>Sam Feldt</td>\n",
       "      <td>one drink got one bacardi one dance afterparty...</td>\n",
       "      <td>['one', 'drink', 'got', 'one', 'bacardi', 'one...</td>\n",
       "      <td>[-0.1616459   0.21872164  0.3755187   0.116120...</td>\n",
       "      <td>[-0.1616459   0.21872164  0.37551871  0.116120...</td>\n",
       "      <td>3</td>\n",
       "      <td>https://i.scdn.co/image/ab67616d0000b27354de16...</td>\n",
       "      <td>https://open.spotify.com/track/0qc4QlcCxVTGySh...</td>\n",
       "    </tr>\n",
       "    <tr>\n",
       "      <th>3</th>\n",
       "      <td>3</td>\n",
       "      <td>4PkIDTPGedm0enzdvilLNd</td>\n",
       "      <td>sixteen</td>\n",
       "      <td>Elliegoulding</td>\n",
       "      <td>0.227273</td>\n",
       "      <td>2019-04-12</td>\n",
       "      <td>Pop</td>\n",
       "      <td>0.601307</td>\n",
       "      <td>0.799335</td>\n",
       "      <td>0.727273</td>\n",
       "      <td>...</td>\n",
       "      <td>ellie goulding</td>\n",
       "      <td>['(sixteen)', '', '(sixteen)', '', 'do', 'you'...</td>\n",
       "      <td>Ellie Goulding</td>\n",
       "      <td>sixteen sixteen remember moved mum said love s...</td>\n",
       "      <td>['sixteen', 'sixteen', 'remember', 'moved', 'm...</td>\n",
       "      <td>[-0.17123666  0.15697554  0.2319686   0.190121...</td>\n",
       "      <td>[-0.17123666  0.15697554  0.2319686   0.190121...</td>\n",
       "      <td>3</td>\n",
       "      <td>https://i.scdn.co/image/ab67616d0000b27394181f...</td>\n",
       "      <td>https://open.spotify.com/track/4PkIDTPGedm0enz...</td>\n",
       "    </tr>\n",
       "    <tr>\n",
       "      <th>4</th>\n",
       "      <td>4</td>\n",
       "      <td>5PYQUBXc7NYeI1obMKSJK0</td>\n",
       "      <td>never really over</td>\n",
       "      <td>Katyperry</td>\n",
       "      <td>0.409091</td>\n",
       "      <td>2019-05-31</td>\n",
       "      <td>Pop</td>\n",
       "      <td>0.733333</td>\n",
       "      <td>0.886254</td>\n",
       "      <td>0.727273</td>\n",
       "      <td>...</td>\n",
       "      <td>katy perry</td>\n",
       "      <td>[\"i'm\", 'losing', 'my', 'self', 'control', '',...</td>\n",
       "      <td>Katy Perry</td>\n",
       "      <td>im losing self control yeah youre starting tri...</td>\n",
       "      <td>['im', 'losing', 'self', 'control', 'yeah', 'y...</td>\n",
       "      <td>[-0.26988247  0.21529263  0.3686135   0.180054...</td>\n",
       "      <td>[-0.26988247  0.21529263  0.36861351  0.180054...</td>\n",
       "      <td>3</td>\n",
       "      <td>https://i.scdn.co/image/ab67616d0000b2739bea3b...</td>\n",
       "      <td>https://open.spotify.com/track/5PYQUBXc7NYeI1o...</td>\n",
       "    </tr>\n",
       "    <tr>\n",
       "      <th>5</th>\n",
       "      <td>5</td>\n",
       "      <td>4Gcv5SsxnQWpmOnUI19EJk</td>\n",
       "      <td>all you need to know (feat. calle lehmann)</td>\n",
       "      <td>Gryffin</td>\n",
       "      <td>0.000000</td>\n",
       "      <td>2019-03-27</td>\n",
       "      <td>Pop</td>\n",
       "      <td>0.397386</td>\n",
       "      <td>0.785385</td>\n",
       "      <td>0.000000</td>\n",
       "      <td>...</td>\n",
       "      <td>gryffin</td>\n",
       "      <td>['simple', 'as', 'can', 'be', '', 'i', 'got', ...</td>\n",
       "      <td>Gryffin</td>\n",
       "      <td>simple got hands mine dont listen carefully il...</td>\n",
       "      <td>['simple', 'got', 'hands', 'mine', 'dont', 'li...</td>\n",
       "      <td>[-1.35775790e-01  1.95568562e-01  4.11487609e-...</td>\n",
       "      <td>[-1.35775790e-01  1.95568562e-01  4.11487609e-...</td>\n",
       "      <td>1</td>\n",
       "      <td>https://i.scdn.co/image/ab67616d0000b27344fa3a...</td>\n",
       "      <td>https://open.spotify.com/track/4Gcv5SsxnQWpmOn...</td>\n",
       "    </tr>\n",
       "    <tr>\n",
       "      <th>6</th>\n",
       "      <td>6</td>\n",
       "      <td>4NSW0Km5ZG60L8FthUebPJ</td>\n",
       "      <td>what i like about you (feat. theresa rex)</td>\n",
       "      <td>Jonasblue</td>\n",
       "      <td>0.227273</td>\n",
       "      <td>2019-03-22</td>\n",
       "      <td>Pop</td>\n",
       "      <td>0.328105</td>\n",
       "      <td>0.798262</td>\n",
       "      <td>0.090909</td>\n",
       "      <td>...</td>\n",
       "      <td>jonas blue</td>\n",
       "      <td>['all', 'my', 'life,', \"i've\", 'been', 'a', 'g...</td>\n",
       "      <td>Jonas Blue</td>\n",
       "      <td>life ive good girl tryna whats right never tol...</td>\n",
       "      <td>['life', 'ive', 'good', 'girl', 'tryna', 'what...</td>\n",
       "      <td>[-0.09478161  0.14201169  0.43457964  0.28851 ...</td>\n",
       "      <td>[-0.09478161  0.14201169  0.43457964  0.288509...</td>\n",
       "      <td>1</td>\n",
       "      <td>https://i.scdn.co/image/ab67616d0000b27376dd13...</td>\n",
       "      <td>https://open.spotify.com/track/4NSW0Km5ZG60L8F...</td>\n",
       "    </tr>\n",
       "    <tr>\n",
       "      <th>7</th>\n",
       "      <td>7</td>\n",
       "      <td>5tAa8Uaqr4VvA3693mbIhU</td>\n",
       "      <td>ruin my life</td>\n",
       "      <td>Zaralarsson</td>\n",
       "      <td>0.136364</td>\n",
       "      <td>2018-10-18</td>\n",
       "      <td>Pop</td>\n",
       "      <td>0.596078</td>\n",
       "      <td>0.689881</td>\n",
       "      <td>1.000000</td>\n",
       "      <td>...</td>\n",
       "      <td>zara larsson</td>\n",
       "      <td>['i', 'miss', 'you', 'pushing', 'me', 'close',...</td>\n",
       "      <td>Zara Larsson</td>\n",
       "      <td>miss pushing close edge miss wish knew left mi...</td>\n",
       "      <td>['miss', 'pushing', 'close', 'edge', 'miss', '...</td>\n",
       "      <td>[ 0.06875134  0.1647693   0.47390795  0.175238...</td>\n",
       "      <td>[ 0.06875134  0.16476931  0.47390795  0.175238...</td>\n",
       "      <td>3</td>\n",
       "      <td>https://i.scdn.co/image/ab67616d0000b273ceedff...</td>\n",
       "      <td>https://open.spotify.com/track/5tAa8Uaqr4VvA36...</td>\n",
       "    </tr>\n",
       "    <tr>\n",
       "      <th>8</th>\n",
       "      <td>8</td>\n",
       "      <td>3y3brCCecHC3Db18aIOnny</td>\n",
       "      <td>carry on (from the original motion picture \"po...</td>\n",
       "      <td>Kygo</td>\n",
       "      <td>0.136364</td>\n",
       "      <td>2019-04-19</td>\n",
       "      <td>Pop</td>\n",
       "      <td>0.499346</td>\n",
       "      <td>0.696319</td>\n",
       "      <td>0.818182</td>\n",
       "      <td>...</td>\n",
       "      <td>kygo</td>\n",
       "      <td>['you,', 'to', 'carry', 'on', 'for', 'you,', '...</td>\n",
       "      <td>Kygo</td>\n",
       "      <td>carry walking alone shores longing miss footpr...</td>\n",
       "      <td>['carry', 'walking', 'alone', 'shores', 'longi...</td>\n",
       "      <td>[-0.06976265  0.21532089  0.20277007  0.094222...</td>\n",
       "      <td>[-0.06976265  0.21532089  0.20277007  0.094222...</td>\n",
       "      <td>4</td>\n",
       "      <td>https://i.scdn.co/image/ab67616d0000b2735c1391...</td>\n",
       "      <td>https://open.spotify.com/track/3y3brCCecHC3Db1...</td>\n",
       "    </tr>\n",
       "    <tr>\n",
       "      <th>9</th>\n",
       "      <td>9</td>\n",
       "      <td>09IStsImFySgyp0pIQdqAc</td>\n",
       "      <td>the middle</td>\n",
       "      <td>Zedd</td>\n",
       "      <td>0.363636</td>\n",
       "      <td>2018-01-23</td>\n",
       "      <td>Pop</td>\n",
       "      <td>0.711111</td>\n",
       "      <td>0.644812</td>\n",
       "      <td>0.636364</td>\n",
       "      <td>...</td>\n",
       "      <td>zedd</td>\n",
       "      <td>['take', 'a', 'seat,', 'right', 'over', 'there...</td>\n",
       "      <td>Zedd</td>\n",
       "      <td>take seat right sat stairs stay leave cabinets...</td>\n",
       "      <td>['take', 'seat', 'right', 'sat', 'stairs', 'st...</td>\n",
       "      <td>[-0.12698482  0.17328635  0.33584055  0.139560...</td>\n",
       "      <td>[-0.12698482  0.17328635  0.33584055  0.139560...</td>\n",
       "      <td>3</td>\n",
       "      <td>https://i.scdn.co/image/ab67616d0000b273fbe22d...</td>\n",
       "      <td>https://open.spotify.com/track/09IStsImFySgyp0...</td>\n",
       "    </tr>\n",
       "  </tbody>\n",
       "</table>\n",
       "<p>10 rows × 28 columns</p>\n",
       "</div>"
      ],
      "text/plain": [
       "   Unnamed: 0                track_id  \\\n",
       "0           0  6oJ6le65B3SEqPwMRNXWjY   \n",
       "1           1  3yNZ5r3LKfdmjoS3gkhUCT   \n",
       "2           2  0qc4QlcCxVTGyShurEv1UU   \n",
       "3           3  4PkIDTPGedm0enzdvilLNd   \n",
       "4           4  5PYQUBXc7NYeI1obMKSJK0   \n",
       "5           5  4Gcv5SsxnQWpmOnUI19EJk   \n",
       "6           6  4NSW0Km5ZG60L8FthUebPJ   \n",
       "7           7  5tAa8Uaqr4VvA3693mbIhU   \n",
       "8           8  3y3brCCecHC3Db18aIOnny   \n",
       "9           9  09IStsImFySgyp0pIQdqAc   \n",
       "\n",
       "                                          track_name   track_artist  \\\n",
       "0                                        higher love           Kygo   \n",
       "1                       bad guy (with justin bieber)   Billieeilish   \n",
       "2                           post malone (feat. rani)       Samfeldt   \n",
       "3                                            sixteen  Elliegoulding   \n",
       "4                                  never really over      Katyperry   \n",
       "5         all you need to know (feat. calle lehmann)        Gryffin   \n",
       "6          what i like about you (feat. theresa rex)      Jonasblue   \n",
       "7                                       ruin my life    Zaralarsson   \n",
       "8  carry on (from the original motion picture \"po...           Kygo   \n",
       "9                                         the middle           Zedd   \n",
       "\n",
       "   track_popularity track_album_release_date playlist_genre  danceability  \\\n",
       "0          0.500000               2019-06-28            Pop      0.632680   \n",
       "1          0.318182               2019-07-11            Pop      0.602614   \n",
       "2          0.318182               2019-05-24            Pop      0.498039   \n",
       "3          0.227273               2019-04-12            Pop      0.601307   \n",
       "4          0.409091               2019-05-31            Pop      0.733333   \n",
       "5          0.000000               2019-03-27            Pop      0.397386   \n",
       "6          0.227273               2019-03-22            Pop      0.328105   \n",
       "7          0.136364               2018-10-18            Pop      0.596078   \n",
       "8          0.136364               2019-04-19            Pop      0.499346   \n",
       "9          0.363636               2018-01-23            Pop      0.711111   \n",
       "\n",
       "     energy       key  ...  track_artist_merged  \\\n",
       "0  0.667346  0.727273  ...                 kygo   \n",
       "1  0.425904  0.000000  ...        billie eilish   \n",
       "2  0.628716  0.636364  ...            sam feldt   \n",
       "3  0.799335  0.727273  ...       ellie goulding   \n",
       "4  0.886254  0.727273  ...           katy perry   \n",
       "5  0.785385  0.000000  ...              gryffin   \n",
       "6  0.798262  0.090909  ...           jonas blue   \n",
       "7  0.689881  1.000000  ...         zara larsson   \n",
       "8  0.696319  0.818182  ...                 kygo   \n",
       "9  0.644812  0.636364  ...                 zedd   \n",
       "\n",
       "                                              lyrics     artist_name  \\\n",
       "0  ['bring', 'me', 'higher', 'love,', 'love', '',...            Kygo   \n",
       "1  ['yeah,', 'yeah', '', 'oh,', 'ah', '', 'white'...   Billie Eilish   \n",
       "2  ['one', 'more', 'drink,', 'got', 'one', 'more'...       Sam Feldt   \n",
       "3  ['(sixteen)', '', '(sixteen)', '', 'do', 'you'...  Ellie Goulding   \n",
       "4  [\"i'm\", 'losing', 'my', 'self', 'control', '',...      Katy Perry   \n",
       "5  ['simple', 'as', 'can', 'be', '', 'i', 'got', ...         Gryffin   \n",
       "6  ['all', 'my', 'life,', \"i've\", 'been', 'a', 'g...      Jonas Blue   \n",
       "7  ['i', 'miss', 'you', 'pushing', 'me', 'close',...    Zara Larsson   \n",
       "8  ['you,', 'to', 'carry', 'on', 'for', 'you,', '...            Kygo   \n",
       "9  ['take', 'a', 'seat,', 'right', 'over', 'there...            Zedd   \n",
       "\n",
       "                                                tags  \\\n",
       "0  bring higher love love bring higher love think...   \n",
       "1  yeah yeah oh ah white shirt red bloody nose sl...   \n",
       "2  one drink got one bacardi one dance afterparty...   \n",
       "3  sixteen sixteen remember moved mum said love s...   \n",
       "4  im losing self control yeah youre starting tri...   \n",
       "5  simple got hands mine dont listen carefully il...   \n",
       "6  life ive good girl tryna whats right never tol...   \n",
       "7  miss pushing close edge miss wish knew left mi...   \n",
       "8  carry walking alone shores longing miss footpr...   \n",
       "9  take seat right sat stairs stay leave cabinets...   \n",
       "\n",
       "                                      tags_tokenized  \\\n",
       "0  ['bring', 'higher', 'love', 'love', 'bring', '...   \n",
       "1  ['yeah', 'yeah', 'oh', 'ah', 'white', 'shirt',...   \n",
       "2  ['one', 'drink', 'got', 'one', 'bacardi', 'one...   \n",
       "3  ['sixteen', 'sixteen', 'remember', 'moved', 'm...   \n",
       "4  ['im', 'losing', 'self', 'control', 'yeah', 'y...   \n",
       "5  ['simple', 'got', 'hands', 'mine', 'dont', 'li...   \n",
       "6  ['life', 'ive', 'good', 'girl', 'tryna', 'what...   \n",
       "7  ['miss', 'pushing', 'close', 'edge', 'miss', '...   \n",
       "8  ['carry', 'walking', 'alone', 'shores', 'longi...   \n",
       "9  ['take', 'seat', 'right', 'sat', 'stairs', 'st...   \n",
       "\n",
       "                                          doc_vector  \\\n",
       "0  [-0.1148182   0.27755967  0.27891365  0.143460...   \n",
       "1  [-2.95320839e-01 -2.59309914e-03  3.84592146e-...   \n",
       "2  [-0.1616459   0.21872164  0.3755187   0.116120...   \n",
       "3  [-0.17123666  0.15697554  0.2319686   0.190121...   \n",
       "4  [-0.26988247  0.21529263  0.3686135   0.180054...   \n",
       "5  [-1.35775790e-01  1.95568562e-01  4.11487609e-...   \n",
       "6  [-0.09478161  0.14201169  0.43457964  0.28851 ...   \n",
       "7  [ 0.06875134  0.1647693   0.47390795  0.175238...   \n",
       "8  [-0.06976265  0.21532089  0.20277007  0.094222...   \n",
       "9  [-0.12698482  0.17328635  0.33584055  0.139560...   \n",
       "\n",
       "                                     combined_vector  cluster  \\\n",
       "0  [-0.1148182   0.27755967  0.27891365  0.143460...        3   \n",
       "1  [-2.95320839e-01 -2.59309914e-03  3.84592146e-...        1   \n",
       "2  [-0.1616459   0.21872164  0.37551871  0.116120...        3   \n",
       "3  [-0.17123666  0.15697554  0.2319686   0.190121...        3   \n",
       "4  [-0.26988247  0.21529263  0.36861351  0.180054...        3   \n",
       "5  [-1.35775790e-01  1.95568562e-01  4.11487609e-...        1   \n",
       "6  [-0.09478161  0.14201169  0.43457964  0.288509...        1   \n",
       "7  [ 0.06875134  0.16476931  0.47390795  0.175238...        3   \n",
       "8  [-0.06976265  0.21532089  0.20277007  0.094222...        4   \n",
       "9  [-0.12698482  0.17328635  0.33584055  0.139560...        3   \n",
       "\n",
       "                                           image_url  \\\n",
       "0  https://i.scdn.co/image/ab67616d0000b2737c8977...   \n",
       "1  https://i.scdn.co/image/ab67616d0000b273a69b8b...   \n",
       "2  https://i.scdn.co/image/ab67616d0000b27354de16...   \n",
       "3  https://i.scdn.co/image/ab67616d0000b27394181f...   \n",
       "4  https://i.scdn.co/image/ab67616d0000b2739bea3b...   \n",
       "5  https://i.scdn.co/image/ab67616d0000b27344fa3a...   \n",
       "6  https://i.scdn.co/image/ab67616d0000b27376dd13...   \n",
       "7  https://i.scdn.co/image/ab67616d0000b273ceedff...   \n",
       "8  https://i.scdn.co/image/ab67616d0000b2735c1391...   \n",
       "9  https://i.scdn.co/image/ab67616d0000b273fbe22d...   \n",
       "\n",
       "                                         spotify_url  \n",
       "0  https://open.spotify.com/track/6oJ6le65B3SEqPw...  \n",
       "1  https://open.spotify.com/track/3yNZ5r3LKfdmjoS...  \n",
       "2  https://open.spotify.com/track/0qc4QlcCxVTGySh...  \n",
       "3  https://open.spotify.com/track/4PkIDTPGedm0enz...  \n",
       "4  https://open.spotify.com/track/5PYQUBXc7NYeI1o...  \n",
       "5  https://open.spotify.com/track/4Gcv5SsxnQWpmOn...  \n",
       "6  https://open.spotify.com/track/4NSW0Km5ZG60L8F...  \n",
       "7  https://open.spotify.com/track/5tAa8Uaqr4VvA36...  \n",
       "8  https://open.spotify.com/track/3y3brCCecHC3Db1...  \n",
       "9  https://open.spotify.com/track/09IStsImFySgyp0...  \n",
       "\n",
       "[10 rows x 28 columns]"
      ]
     },
     "execution_count": 3,
     "metadata": {},
     "output_type": "execute_result"
    }
   ],
   "source": [
    "dataset=pd.read_csv(r\"/kaggle/input/spotify-most-popular-songs-dataset/songs.csv\")\n",
    "dataset.head(10)"
   ]
  },
  {
   "cell_type": "code",
   "execution_count": 4,
   "id": "ba05564a",
   "metadata": {
    "execution": {
     "iopub.execute_input": "2025-02-27T10:02:55.827507Z",
     "iopub.status.busy": "2025-02-27T10:02:55.827178Z",
     "iopub.status.idle": "2025-02-27T10:02:55.832755Z",
     "shell.execute_reply": "2025-02-27T10:02:55.831845Z"
    },
    "papermill": {
     "duration": 0.012833,
     "end_time": "2025-02-27T10:02:55.834291",
     "exception": false,
     "start_time": "2025-02-27T10:02:55.821458",
     "status": "completed"
    },
    "tags": []
   },
   "outputs": [
    {
     "data": {
      "text/plain": [
       "Index(['Unnamed: 0', 'track_id', 'track_name', 'track_artist',\n",
       "       'track_popularity', 'track_album_release_date', 'playlist_genre',\n",
       "       'danceability', 'energy', 'key', 'loudness', 'mode', 'speechiness',\n",
       "       'acousticness', 'liveness', 'valence', 'tempo', 'duration_ms',\n",
       "       'track_artist_merged', 'lyrics', 'artist_name', 'tags',\n",
       "       'tags_tokenized', 'doc_vector', 'combined_vector', 'cluster',\n",
       "       'image_url', 'spotify_url'],\n",
       "      dtype='object')"
      ]
     },
     "execution_count": 4,
     "metadata": {},
     "output_type": "execute_result"
    }
   ],
   "source": [
    "dataset.columns\n"
   ]
  },
  {
   "cell_type": "code",
   "execution_count": 5,
   "id": "60ee1749",
   "metadata": {
    "execution": {
     "iopub.execute_input": "2025-02-27T10:02:55.845121Z",
     "iopub.status.busy": "2025-02-27T10:02:55.844800Z",
     "iopub.status.idle": "2025-02-27T10:02:55.850705Z",
     "shell.execute_reply": "2025-02-27T10:02:55.849443Z"
    },
    "papermill": {
     "duration": 0.013058,
     "end_time": "2025-02-27T10:02:55.852293",
     "exception": false,
     "start_time": "2025-02-27T10:02:55.839235",
     "status": "completed"
    },
    "tags": []
   },
   "outputs": [],
   "source": [
    "dataset.drop(columns=['combined_vector','doc_vector','tags_tokenized','cluster'],inplace=True)"
   ]
  },
  {
   "cell_type": "code",
   "execution_count": 6,
   "id": "2c180c0d",
   "metadata": {
    "execution": {
     "iopub.execute_input": "2025-02-27T10:02:55.863688Z",
     "iopub.status.busy": "2025-02-27T10:02:55.863309Z",
     "iopub.status.idle": "2025-02-27T10:02:55.868936Z",
     "shell.execute_reply": "2025-02-27T10:02:55.867915Z"
    },
    "papermill": {
     "duration": 0.013028,
     "end_time": "2025-02-27T10:02:55.870477",
     "exception": false,
     "start_time": "2025-02-27T10:02:55.857449",
     "status": "completed"
    },
    "tags": []
   },
   "outputs": [
    {
     "data": {
      "text/plain": [
       "Index(['Unnamed: 0', 'track_id', 'track_name', 'track_artist',\n",
       "       'track_popularity', 'track_album_release_date', 'playlist_genre',\n",
       "       'danceability', 'energy', 'key', 'loudness', 'mode', 'speechiness',\n",
       "       'acousticness', 'liveness', 'valence', 'tempo', 'duration_ms',\n",
       "       'track_artist_merged', 'lyrics', 'artist_name', 'tags', 'image_url',\n",
       "       'spotify_url'],\n",
       "      dtype='object')"
      ]
     },
     "execution_count": 6,
     "metadata": {},
     "output_type": "execute_result"
    }
   ],
   "source": [
    "dataset.columns\n"
   ]
  },
  {
   "cell_type": "code",
   "execution_count": 7,
   "id": "92bd4738",
   "metadata": {
    "execution": {
     "iopub.execute_input": "2025-02-27T10:02:55.881966Z",
     "iopub.status.busy": "2025-02-27T10:02:55.881634Z",
     "iopub.status.idle": "2025-02-27T10:02:55.903610Z",
     "shell.execute_reply": "2025-02-27T10:02:55.902322Z"
    },
    "papermill": {
     "duration": 0.029534,
     "end_time": "2025-02-27T10:02:55.905316",
     "exception": false,
     "start_time": "2025-02-27T10:02:55.875782",
     "status": "completed"
    },
    "tags": []
   },
   "outputs": [
    {
     "name": "stdout",
     "output_type": "stream",
     "text": [
      "<class 'pandas.core.frame.DataFrame'>\n",
      "RangeIndex: 900 entries, 0 to 899\n",
      "Data columns (total 24 columns):\n",
      " #   Column                    Non-Null Count  Dtype  \n",
      "---  ------                    --------------  -----  \n",
      " 0   Unnamed: 0                900 non-null    int64  \n",
      " 1   track_id                  900 non-null    object \n",
      " 2   track_name                900 non-null    object \n",
      " 3   track_artist              900 non-null    object \n",
      " 4   track_popularity          900 non-null    float64\n",
      " 5   track_album_release_date  900 non-null    object \n",
      " 6   playlist_genre            900 non-null    object \n",
      " 7   danceability              900 non-null    float64\n",
      " 8   energy                    900 non-null    float64\n",
      " 9   key                       900 non-null    float64\n",
      " 10  loudness                  900 non-null    float64\n",
      " 11  mode                      900 non-null    float64\n",
      " 12  speechiness               900 non-null    float64\n",
      " 13  acousticness              900 non-null    float64\n",
      " 14  liveness                  900 non-null    float64\n",
      " 15  valence                   900 non-null    float64\n",
      " 16  tempo                     900 non-null    float64\n",
      " 17  duration_ms               900 non-null    int64  \n",
      " 18  track_artist_merged       900 non-null    object \n",
      " 19  lyrics                    900 non-null    object \n",
      " 20  artist_name               900 non-null    object \n",
      " 21  tags                      900 non-null    object \n",
      " 22  image_url                 900 non-null    object \n",
      " 23  spotify_url               900 non-null    object \n",
      "dtypes: float64(11), int64(2), object(11)\n",
      "memory usage: 168.9+ KB\n",
      "None\n"
     ]
    }
   ],
   "source": [
    "print(dataset.info())"
   ]
  },
  {
   "cell_type": "markdown",
   "id": "6ebf9b54",
   "metadata": {
    "papermill": {
     "duration": 0.004886,
     "end_time": "2025-02-27T10:02:55.915425",
     "exception": false,
     "start_time": "2025-02-27T10:02:55.910539",
     "status": "completed"
    },
    "tags": []
   },
   "source": []
  },
  {
   "cell_type": "markdown",
   "id": "5048500e",
   "metadata": {
    "papermill": {
     "duration": 0.004784,
     "end_time": "2025-02-27T10:02:55.925214",
     "exception": false,
     "start_time": "2025-02-27T10:02:55.920430",
     "status": "completed"
    },
    "tags": []
   },
   "source": [
    "## MOST POPULAR GENRE"
   ]
  },
  {
   "cell_type": "code",
   "execution_count": 8,
   "id": "07cdf1e6",
   "metadata": {
    "execution": {
     "iopub.execute_input": "2025-02-27T10:02:55.936505Z",
     "iopub.status.busy": "2025-02-27T10:02:55.936164Z",
     "iopub.status.idle": "2025-02-27T10:02:55.948215Z",
     "shell.execute_reply": "2025-02-27T10:02:55.947026Z"
    },
    "papermill": {
     "duration": 0.019901,
     "end_time": "2025-02-27T10:02:55.949982",
     "exception": false,
     "start_time": "2025-02-27T10:02:55.930081",
     "status": "completed"
    },
    "tags": []
   },
   "outputs": [
    {
     "name": "stdout",
     "output_type": "stream",
     "text": [
      "<class 'pandas.core.frame.DataFrame'>\n",
      "RangeIndex: 900 entries, 0 to 899\n",
      "Data columns (total 24 columns):\n",
      " #   Column                    Non-Null Count  Dtype  \n",
      "---  ------                    --------------  -----  \n",
      " 0   Unnamed: 0                900 non-null    int64  \n",
      " 1   track_id                  900 non-null    object \n",
      " 2   track_name                900 non-null    object \n",
      " 3   track_artist              900 non-null    object \n",
      " 4   track_popularity          900 non-null    float64\n",
      " 5   track_album_release_date  900 non-null    object \n",
      " 6   playlist_genre            900 non-null    object \n",
      " 7   danceability              900 non-null    float64\n",
      " 8   energy                    900 non-null    float64\n",
      " 9   key                       900 non-null    float64\n",
      " 10  loudness                  900 non-null    float64\n",
      " 11  mode                      900 non-null    float64\n",
      " 12  speechiness               900 non-null    float64\n",
      " 13  acousticness              900 non-null    float64\n",
      " 14  liveness                  900 non-null    float64\n",
      " 15  valence                   900 non-null    float64\n",
      " 16  tempo                     900 non-null    float64\n",
      " 17  duration_ms               900 non-null    int64  \n",
      " 18  track_artist_merged       900 non-null    object \n",
      " 19  lyrics                    900 non-null    object \n",
      " 20  artist_name               900 non-null    object \n",
      " 21  tags                      900 non-null    object \n",
      " 22  image_url                 900 non-null    object \n",
      " 23  spotify_url               900 non-null    object \n",
      "dtypes: float64(11), int64(2), object(11)\n",
      "memory usage: 168.9+ KB\n"
     ]
    }
   ],
   "source": [
    "dataset['playlist_genre']=dataset['playlist_genre'].astype(str)\n",
    "dataset.info()"
   ]
  },
  {
   "cell_type": "code",
   "execution_count": 9,
   "id": "49053c9c",
   "metadata": {
    "execution": {
     "iopub.execute_input": "2025-02-27T10:02:55.962069Z",
     "iopub.status.busy": "2025-02-27T10:02:55.961701Z",
     "iopub.status.idle": "2025-02-27T10:02:55.967832Z",
     "shell.execute_reply": "2025-02-27T10:02:55.966682Z"
    },
    "papermill": {
     "duration": 0.014353,
     "end_time": "2025-02-27T10:02:55.969659",
     "exception": false,
     "start_time": "2025-02-27T10:02:55.955306",
     "status": "completed"
    },
    "tags": []
   },
   "outputs": [
    {
     "name": "stdout",
     "output_type": "stream",
     "text": [
      "[<class 'str'>]\n"
     ]
    }
   ],
   "source": [
    "print(dataset['playlist_genre'].apply(type).unique())\n"
   ]
  },
  {
   "cell_type": "code",
   "execution_count": 10,
   "id": "40c38de5",
   "metadata": {
    "execution": {
     "iopub.execute_input": "2025-02-27T10:02:55.981452Z",
     "iopub.status.busy": "2025-02-27T10:02:55.981129Z",
     "iopub.status.idle": "2025-02-27T10:02:55.987900Z",
     "shell.execute_reply": "2025-02-27T10:02:55.986662Z"
    },
    "papermill": {
     "duration": 0.014339,
     "end_time": "2025-02-27T10:02:55.989349",
     "exception": false,
     "start_time": "2025-02-27T10:02:55.975010",
     "status": "completed"
    },
    "tags": []
   },
   "outputs": [
    {
     "name": "stdout",
     "output_type": "stream",
     "text": [
      "playlist_genre\n",
      "Pop      428\n",
      "Rap      184\n",
      "Latin    125\n",
      "R&b       79\n",
      "Rock      68\n",
      "Edm       16\n",
      "Name: count, dtype: int64\n"
     ]
    }
   ],
   "source": [
    "genreCount=dataset['playlist_genre'].value_counts()\n",
    "print(genreCount)"
   ]
  },
  {
   "cell_type": "code",
   "execution_count": 11,
   "id": "7a4adca7",
   "metadata": {
    "execution": {
     "iopub.execute_input": "2025-02-27T10:02:56.001351Z",
     "iopub.status.busy": "2025-02-27T10:02:56.001007Z",
     "iopub.status.idle": "2025-02-27T10:02:56.312642Z",
     "shell.execute_reply": "2025-02-27T10:02:56.311676Z"
    },
    "papermill": {
     "duration": 0.319538,
     "end_time": "2025-02-27T10:02:56.314426",
     "exception": false,
     "start_time": "2025-02-27T10:02:55.994888",
     "status": "completed"
    },
    "tags": []
   },
   "outputs": [
    {
     "data": {
      "image/png": "[encoded data removed]",
      "text/plain": [
       "<Figure size 1200x600 with 1 Axes>"
      ]
     },
     "metadata": {},
     "output_type": "display_data"
    }
   ],
   "source": [
    "plt.figure(figsize=(12,6))\n",
    "sns.barplot(x=genreCount.index,y=genreCount.values,palette=\"viridis\")\n",
    "plt.xlabel('Genre')\n",
    "plt.ylabel('Number iof Songs')\n",
    "plt.title('Number of Most popular songs per genre')\n",
    "plt.xticks(rotation=45)\n",
    "plt.show()"
   ]
  },
  {
   "cell_type": "markdown",
   "id": "844e9e5f",
   "metadata": {
    "papermill": {
     "duration": 0.005861,
     "end_time": "2025-02-27T10:02:56.326625",
     "exception": false,
     "start_time": "2025-02-27T10:02:56.320764",
     "status": "completed"
    },
    "tags": []
   },
   "source": [
    "### AVERAGE DANCEABILITY PER GENRE"
   ]
  },
  {
   "cell_type": "code",
   "execution_count": 12,
   "id": "3aa55ecc",
   "metadata": {
    "execution": {
     "iopub.execute_input": "2025-02-27T10:02:56.339812Z",
     "iopub.status.busy": "2025-02-27T10:02:56.339441Z",
     "iopub.status.idle": "2025-02-27T10:02:56.349060Z",
     "shell.execute_reply": "2025-02-27T10:02:56.347850Z"
    },
    "papermill": {
     "duration": 0.018131,
     "end_time": "2025-02-27T10:02:56.350767",
     "exception": false,
     "start_time": "2025-02-27T10:02:56.332636",
     "status": "completed"
    },
    "tags": []
   },
   "outputs": [
    {
     "name": "stdout",
     "output_type": "stream",
     "text": [
      "playlist_genre\n",
      "Rap      0.727252\n",
      "Latin    0.696627\n",
      "Edm      0.640033\n",
      "Pop      0.597783\n",
      "R&b      0.578373\n",
      "Rock     0.417339\n",
      "Name: danceability, dtype: float64\n"
     ]
    }
   ],
   "source": [
    "genreDanceability=dataset.groupby('playlist_genre')['danceability'].mean().sort_values(ascending=False)\n",
    "print(genreDanceability)"
   ]
  },
  {
   "cell_type": "code",
   "execution_count": 13,
   "id": "afd1ff18",
   "metadata": {
    "execution": {
     "iopub.execute_input": "2025-02-27T10:02:56.364529Z",
     "iopub.status.busy": "2025-02-27T10:02:56.364163Z",
     "iopub.status.idle": "2025-02-27T10:02:56.580963Z",
     "shell.execute_reply": "2025-02-27T10:02:56.579894Z"
    },
    "papermill": {
     "duration": 0.22558,
     "end_time": "2025-02-27T10:02:56.582695",
     "exception": false,
     "start_time": "2025-02-27T10:02:56.357115",
     "status": "completed"
    },
    "tags": []
   },
   "outputs": [
    {
     "data": {
      "image/png": "[encoded data removed]",
      "text/plain": [
       "<Figure size 1200x600 with 1 Axes>"
      ]
     },
     "metadata": {},
     "output_type": "display_data"
    }
   ],
   "source": [
    "plt.figure(figsize=(12,6))\n",
    "sns.barplot(x=genreDanceability.index,y=genreDanceability.values,palette='viridis')\n",
    "plt.xlabel('Genre')\n",
    "plt.ylabel('Average Danceability')\n",
    "plt.title('Average danceability per genre')\n",
    "plt.show()"
   ]
  },
  {
   "cell_type": "markdown",
   "id": "fffee239",
   "metadata": {
    "papermill": {
     "duration": 0.006621,
     "end_time": "2025-02-27T10:02:56.596080",
     "exception": false,
     "start_time": "2025-02-27T10:02:56.589459",
     "status": "completed"
    },
    "tags": []
   },
   "source": [
    "## CORRELATION BETWEEN DANCEABILITY AND ENERGY, KEY, LOUDNESS,MODE,SPEECHINESS,ACOUSTICNESS,LIVENESS,VALENCE AND TEMPO"
   ]
  },
  {
   "cell_type": "code",
   "execution_count": 14,
   "id": "ba57f592",
   "metadata": {
    "execution": {
     "iopub.execute_input": "2025-02-27T10:02:56.611016Z",
     "iopub.status.busy": "2025-02-27T10:02:56.610680Z",
     "iopub.status.idle": "2025-02-27T10:02:56.636900Z",
     "shell.execute_reply": "2025-02-27T10:02:56.635822Z"
    },
    "papermill": {
     "duration": 0.0365,
     "end_time": "2025-02-27T10:02:56.639172",
     "exception": false,
     "start_time": "2025-02-27T10:02:56.602672",
     "status": "completed"
    },
    "tags": []
   },
   "outputs": [
    {
     "name": "stdout",
     "output_type": "stream",
     "text": [
      "Correlation between danceability and energy: 0.03 → Moderate correlation (between -0.7 and 0.7)\n",
      "Correlation between danceability and key: 0.00 → Moderate correlation (between -0.7 and 0.7)\n",
      "Correlation between danceability and loudness: 0.11 → Weak positive correlation\n",
      "Correlation between danceability and mode: -0.11 → Weak negative correlation\n",
      "Correlation between danceability and speechiness: 0.24 → Weak positive correlation\n",
      "Correlation between danceability and acousticness: -0.16 → Weak negative correlation\n",
      "Correlation between danceability and liveness: -0.03 → Moderate correlation (between -0.7 and 0.7)\n",
      "Correlation between danceability and valence: 0.35 → Moderate correlation (between -0.7 and 0.7)\n",
      "Correlation between danceability and tempo: -0.13 → Weak negative correlation\n",
      "Correlation between energy and danceability: 0.03 → Moderate correlation (between -0.7 and 0.7)\n",
      "Correlation between energy and key: 0.01 → Moderate correlation (between -0.7 and 0.7)\n",
      "Correlation between energy and loudness: 0.73 → Strong positive correlation\n",
      "Correlation between energy and mode: -0.03 → Moderate correlation (between -0.7 and 0.7)\n",
      "Correlation between energy and speechiness: -0.05 → Moderate correlation (between -0.7 and 0.7)\n",
      "Correlation between energy and acousticness: -0.54 → Moderate correlation (between -0.7 and 0.7)\n",
      "Correlation between energy and liveness: 0.14 → Weak positive correlation\n",
      "Correlation between energy and valence: 0.43 → Moderate positive correlation\n",
      "Correlation between energy and tempo: 0.10 → Weak positive correlation\n",
      "Correlation between key and danceability: 0.00 → Moderate correlation (between -0.7 and 0.7)\n",
      "Correlation between key and energy: 0.01 → Moderate correlation (between -0.7 and 0.7)\n",
      "Correlation between key and loudness: 0.01 → Moderate correlation (between -0.7 and 0.7)\n",
      "Correlation between key and mode: -0.11 → Weak negative correlation\n",
      "Correlation between key and speechiness: 0.05 → Moderate correlation (between -0.7 and 0.7)\n",
      "Correlation between key and acousticness: 0.01 → Moderate correlation (between -0.7 and 0.7)\n",
      "Correlation between key and liveness: 0.04 → Moderate correlation (between -0.7 and 0.7)\n",
      "Correlation between key and valence: -0.02 → Moderate correlation (between -0.7 and 0.7)\n",
      "Correlation between key and tempo: -0.04 → Moderate correlation (between -0.7 and 0.7)\n",
      "Correlation between loudness and danceability: 0.11 → Weak positive correlation\n",
      "Correlation between loudness and energy: 0.73 → Strong positive correlation\n",
      "Correlation between loudness and key: 0.01 → Moderate correlation (between -0.7 and 0.7)\n",
      "Correlation between loudness and mode: -0.01 → Moderate correlation (between -0.7 and 0.7)\n",
      "Correlation between loudness and speechiness: -0.06 → Moderate correlation (between -0.7 and 0.7)\n",
      "Correlation between loudness and acousticness: -0.41 → Moderate correlation (between -0.7 and 0.7)\n",
      "Correlation between loudness and liveness: 0.04 → Moderate correlation (between -0.7 and 0.7)\n",
      "Correlation between loudness and valence: 0.35 → Moderate correlation (between -0.7 and 0.7)\n",
      "Correlation between loudness and tempo: 0.09 → Moderate correlation (between -0.7 and 0.7)\n",
      "Correlation between mode and danceability: -0.11 → Weak negative correlation\n",
      "Correlation between mode and energy: -0.03 → Moderate correlation (between -0.7 and 0.7)\n",
      "Correlation between mode and key: -0.11 → Weak negative correlation\n",
      "Correlation between mode and loudness: -0.01 → Moderate correlation (between -0.7 and 0.7)\n",
      "Correlation between mode and speechiness: -0.09 → Moderate correlation (between -0.7 and 0.7)\n",
      "Correlation between mode and acousticness: 0.04 → Moderate correlation (between -0.7 and 0.7)\n",
      "Correlation between mode and liveness: -0.02 → Moderate correlation (between -0.7 and 0.7)\n",
      "Correlation between mode and valence: -0.04 → Moderate correlation (between -0.7 and 0.7)\n",
      "Correlation between mode and tempo: 0.01 → Moderate correlation (between -0.7 and 0.7)\n",
      "Correlation between speechiness and danceability: 0.24 → Weak positive correlation\n",
      "Correlation between speechiness and energy: -0.05 → Moderate correlation (between -0.7 and 0.7)\n",
      "Correlation between speechiness and key: 0.05 → Moderate correlation (between -0.7 and 0.7)\n",
      "Correlation between speechiness and loudness: -0.06 → Moderate correlation (between -0.7 and 0.7)\n",
      "Correlation between speechiness and mode: -0.09 → Moderate correlation (between -0.7 and 0.7)\n",
      "Correlation between speechiness and acousticness: -0.03 → Moderate correlation (between -0.7 and 0.7)\n",
      "Correlation between speechiness and liveness: 0.01 → Moderate correlation (between -0.7 and 0.7)\n",
      "Correlation between speechiness and valence: 0.05 → Moderate correlation (between -0.7 and 0.7)\n",
      "Correlation between speechiness and tempo: 0.15 → Weak positive correlation\n",
      "Correlation between acousticness and danceability: -0.16 → Weak negative correlation\n",
      "Correlation between acousticness and energy: -0.54 → Moderate correlation (between -0.7 and 0.7)\n",
      "Correlation between acousticness and key: 0.01 → Moderate correlation (between -0.7 and 0.7)\n",
      "Correlation between acousticness and loudness: -0.41 → Moderate correlation (between -0.7 and 0.7)\n",
      "Correlation between acousticness and mode: 0.04 → Moderate correlation (between -0.7 and 0.7)\n",
      "Correlation between acousticness and speechiness: -0.03 → Moderate correlation (between -0.7 and 0.7)\n",
      "Correlation between acousticness and liveness: -0.05 → Moderate correlation (between -0.7 and 0.7)\n",
      "Correlation between acousticness and valence: -0.16 → Weak negative correlation\n",
      "Correlation between acousticness and tempo: -0.03 → Moderate correlation (between -0.7 and 0.7)\n",
      "Correlation between liveness and danceability: -0.03 → Moderate correlation (between -0.7 and 0.7)\n",
      "Correlation between liveness and energy: 0.14 → Weak positive correlation\n",
      "Correlation between liveness and key: 0.04 → Moderate correlation (between -0.7 and 0.7)\n",
      "Correlation between liveness and loudness: 0.04 → Moderate correlation (between -0.7 and 0.7)\n",
      "Correlation between liveness and mode: -0.02 → Moderate correlation (between -0.7 and 0.7)\n",
      "Correlation between liveness and speechiness: 0.01 → Moderate correlation (between -0.7 and 0.7)\n",
      "Correlation between liveness and acousticness: -0.05 → Moderate correlation (between -0.7 and 0.7)\n",
      "Correlation between liveness and valence: 0.05 → Moderate correlation (between -0.7 and 0.7)\n",
      "Correlation between liveness and tempo: -0.01 → Moderate correlation (between -0.7 and 0.7)\n",
      "Correlation between valence and danceability: 0.35 → Moderate correlation (between -0.7 and 0.7)\n",
      "Correlation between valence and energy: 0.43 → Moderate positive correlation\n",
      "Correlation between valence and key: -0.02 → Moderate correlation (between -0.7 and 0.7)\n",
      "Correlation between valence and loudness: 0.35 → Moderate correlation (between -0.7 and 0.7)\n",
      "Correlation between valence and mode: -0.04 → Moderate correlation (between -0.7 and 0.7)\n",
      "Correlation between valence and speechiness: 0.05 → Moderate correlation (between -0.7 and 0.7)\n",
      "Correlation between valence and acousticness: -0.16 → Weak negative correlation\n",
      "Correlation between valence and liveness: 0.05 → Moderate correlation (between -0.7 and 0.7)\n",
      "Correlation between valence and tempo: 0.04 → Moderate correlation (between -0.7 and 0.7)\n",
      "Correlation between tempo and danceability: -0.13 → Weak negative correlation\n",
      "Correlation between tempo and energy: 0.10 → Weak positive correlation\n",
      "Correlation between tempo and key: -0.04 → Moderate correlation (between -0.7 and 0.7)\n",
      "Correlation between tempo and loudness: 0.09 → Moderate correlation (between -0.7 and 0.7)\n",
      "Correlation between tempo and mode: 0.01 → Moderate correlation (between -0.7 and 0.7)\n",
      "Correlation between tempo and speechiness: 0.15 → Weak positive correlation\n",
      "Correlation between tempo and acousticness: -0.03 → Moderate correlation (between -0.7 and 0.7)\n",
      "Correlation between tempo and liveness: -0.01 → Moderate correlation (between -0.7 and 0.7)\n",
      "Correlation between tempo and valence: 0.04 → Moderate correlation (between -0.7 and 0.7)\n"
     ]
    }
   ],
   "source": [
    "\n",
    "def classify_correlation(value):\n",
    "    if value == 1:\n",
    "        return \"Perfect positive correlation\"\n",
    "    elif 0.7 < value < 0.9:\n",
    "        return \"Strong positive correlation\"\n",
    "    elif 0.4 < value < 0.6:\n",
    "        return \"Moderate positive correlation\"\n",
    "    elif 0.1 < value < 0.3:\n",
    "        return \"Weak positive correlation\"\n",
    "    elif value == 0:\n",
    "        return \"No correlation\"\n",
    "    elif -0.3 < value < -0.1:\n",
    "        return \"Weak negative correlation\"\n",
    "    elif -0.9 < value < -0.7:\n",
    "        return \"Strong negative correlation\"\n",
    "    elif value == -1:\n",
    "        return \"Perfect negative correlation\"\n",
    "    else:\n",
    "        return \"Moderate correlation (between -0.7 and 0.7)\"\n",
    "\n",
    "\n",
    "correlation_matrix = dataset[['danceability', 'energy', 'key', 'loudness', \n",
    "                              'mode', 'speechiness', 'acousticness', \n",
    "                              'liveness', 'valence', 'tempo']].corr()\n",
    "\n",
    "\n",
    "for i in correlation_matrix.index:\n",
    "    for j in correlation_matrix.columns:\n",
    "        if i != j: \n",
    "            correlation = correlation_matrix.loc[i, j]\n",
    "            classification = classify_correlation(correlation)\n",
    "            print(f\"Correlation between {i} and {j}: {correlation:.2f} → {classification}\")\n"
   ]
  },
  {
   "cell_type": "code",
   "execution_count": 15,
   "id": "3c0ca3e3",
   "metadata": {
    "execution": {
     "iopub.execute_input": "2025-02-27T10:02:56.654836Z",
     "iopub.status.busy": "2025-02-27T10:02:56.654465Z",
     "iopub.status.idle": "2025-02-27T10:02:57.177023Z",
     "shell.execute_reply": "2025-02-27T10:02:57.175745Z"
    },
    "papermill": {
     "duration": 0.532747,
     "end_time": "2025-02-27T10:02:57.179369",
     "exception": false,
     "start_time": "2025-02-27T10:02:56.646622",
     "status": "completed"
    },
    "tags": []
   },
   "outputs": [
    {
     "data": {
      "image/png": "[encoded data removed]",
      "text/plain": [
       "<Figure size 1000x800 with 2 Axes>"
      ]
     },
     "metadata": {},
     "output_type": "display_data"
    }
   ],
   "source": [
    "plt.figure(figsize=(10,8))\n",
    "sns.heatmap(correlation_matrix,annot=True, cmap=\"coolwarm\", fmt=\".2f\", linewidths=0.5)\n",
    "plt.title(\"Correlation Heatmap of Spotify Song Features\")\n",
    "plt.show()"
   ]
  }
 ],
 "metadata": {
  "kaggle": {
   "accelerator": "none",
   "dataSources": [
    {
     "datasetId": 6712883,
     "sourceId": 10813173,
     "sourceType": "datasetVersion"
    }
   ],
   "dockerImageVersionId": 30918,
   "isGpuEnabled": false,
   "isInternetEnabled": true,
   "language": "python",
   "sourceType": "notebook"
  },
  "kernelspec": {
   "display_name": "Python 3",
   "language": "python",
   "name": "python3"
  },
  "language_info": {
   "codemirror_mode": {
    "name": "ipython",
    "version": 3
   },
   "file_extension": ".py",
   "mimetype": "text/x-python",
   "name": "python",
   "nbconvert_exporter": "python",
   "pygments_lexer": "ipython3",
   "version": "3.10.12"
  },
  "papermill": {
   "default_parameters": {},
   "duration": 8.128038,
   "end_time": "2025-02-27T10:02:57.909890",
   "environment_variables": {},
   "exception": null,
   "input_path": "__notebook__.ipynb",
   "output_path": "__notebook__.ipynb",
   "parameters": {},
   "start_time": "2025-02-27T10:02:49.781852",
   "version": "2.6.0"
  }
 },
 "nbformat": 4,
 "nbformat_minor": 5
}
