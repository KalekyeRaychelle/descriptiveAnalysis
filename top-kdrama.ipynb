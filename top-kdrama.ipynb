{
 "cells": [
  {
   "cell_type": "code",
   "execution_count": 1,
   "id": "275944ce",
   "metadata": {
    "_cell_guid": "b1076dfc-b9ad-4769-8c92-a6c4dae69d19",
    "_uuid": "8f2839f25d086af736a60e9eeb907d3b93b6e0e5",
    "execution": {
     "iopub.execute_input": "2025-02-18T13:50:54.908180Z",
     "iopub.status.busy": "2025-02-18T13:50:54.907796Z",
     "iopub.status.idle": "2025-02-18T13:50:55.856081Z",
     "shell.execute_reply": "2025-02-18T13:50:55.854822Z"
    },
    "papermill": {
     "duration": 0.954457,
     "end_time": "2025-02-18T13:50:55.857876",
     "exception": false,
     "start_time": "2025-02-18T13:50:54.903419",
     "status": "completed"
    },
    "tags": []
   },
   "outputs": [
    {
     "name": "stdout",
     "output_type": "stream",
     "text": [
      "/kaggle/input/top-100-most-popular-k-dramas-at-january-2025/top 100 most popular k-dramas.csv\n"
     ]
    }
   ],
   "source": [
    "# This Python 3 environment comes with many helpful analytics libraries installed\n",
    "# It is defined by the kaggle/python Docker image: https://github.com/kaggle/docker-python\n",
    "# For example, here's several helpful packages to load\n",
    "\n",
    "import numpy as np # linear algebra\n",
    "import pandas as pd # data processing, CSV file I/O (e.g. pd.read_csv)\n",
    "\n",
    "# Input data files are available in the read-only \"../input/\" directory\n",
    "# For example, running this (by clicking run or pressing Shift+Enter) will list all files under the input directory\n",
    "\n",
    "import os\n",
    "for dirname, _, filenames in os.walk('/kaggle/input'):\n",
    "    for filename in filenames:\n",
    "        print(os.path.join(dirname, filename))\n",
    "\n",
    "# You can write up to 20GB to the current directory (/kaggle/working/) that gets preserved as output when you create a version using \"Save & Run All\" \n",
    "# You can also write temporary files to /kaggle/temp/, but they won't be saved outside of the current session"
   ]
  },
  {
   "cell_type": "code",
   "execution_count": 2,
   "id": "e413983c",
   "metadata": {
    "execution": {
     "iopub.execute_input": "2025-02-18T13:50:55.865969Z",
     "iopub.status.busy": "2025-02-18T13:50:55.865476Z",
     "iopub.status.idle": "2025-02-18T13:50:57.580038Z",
     "shell.execute_reply": "2025-02-18T13:50:57.578732Z"
    },
    "papermill": {
     "duration": 1.720994,
     "end_time": "2025-02-18T13:50:57.582228",
     "exception": false,
     "start_time": "2025-02-18T13:50:55.861234",
     "status": "completed"
    },
    "tags": []
   },
   "outputs": [],
   "source": [
    "import pandas as pd;\n",
    "import matplotlib.pyplot as plt\n",
    "import seaborn as sns"
   ]
  },
  {
   "cell_type": "code",
   "execution_count": 3,
   "id": "b899cc78",
   "metadata": {
    "execution": {
     "iopub.execute_input": "2025-02-18T13:50:57.589818Z",
     "iopub.status.busy": "2025-02-18T13:50:57.589297Z",
     "iopub.status.idle": "2025-02-18T13:50:57.606956Z",
     "shell.execute_reply": "2025-02-18T13:50:57.605867Z"
    },
    "papermill": {
     "duration": 0.023504,
     "end_time": "2025-02-18T13:50:57.608880",
     "exception": false,
     "start_time": "2025-02-18T13:50:57.585376",
     "status": "completed"
    },
    "tags": []
   },
   "outputs": [],
   "source": [
    "kdramas=pd.read_csv(\"/kaggle/input/top-100-most-popular-k-dramas-at-january-2025/top 100 most popular k-dramas.csv\")"
   ]
  },
  {
   "cell_type": "code",
   "execution_count": 4,
   "id": "7c585d81",
   "metadata": {
    "execution": {
     "iopub.execute_input": "2025-02-18T13:50:57.616386Z",
     "iopub.status.busy": "2025-02-18T13:50:57.615957Z",
     "iopub.status.idle": "2025-02-18T13:50:57.645432Z",
     "shell.execute_reply": "2025-02-18T13:50:57.644366Z"
    },
    "papermill": {
     "duration": 0.034986,
     "end_time": "2025-02-18T13:50:57.647110",
     "exception": false,
     "start_time": "2025-02-18T13:50:57.612124",
     "status": "completed"
    },
    "tags": []
   },
   "outputs": [
    {
     "data": {
      "text/html": [
       "<div>\n",
       "<style scoped>\n",
       "    .dataframe tbody tr th:only-of-type {\n",
       "        vertical-align: middle;\n",
       "    }\n",
       "\n",
       "    .dataframe tbody tr th {\n",
       "        vertical-align: top;\n",
       "    }\n",
       "\n",
       "    .dataframe thead th {\n",
       "        text-align: right;\n",
       "    }\n",
       "</style>\n",
       "<table border=\"1\" class=\"dataframe\">\n",
       "  <thead>\n",
       "    <tr style=\"text-align: right;\">\n",
       "      <th></th>\n",
       "      <th>Name</th>\n",
       "      <th>Year</th>\n",
       "      <th>Rating</th>\n",
       "      <th>Watchers</th>\n",
       "      <th>Episodes</th>\n",
       "      <th>Ep. Duration</th>\n",
       "      <th>Aired On</th>\n",
       "      <th>Genres</th>\n",
       "      <th>Tags</th>\n",
       "      <th>Main Actors</th>\n",
       "    </tr>\n",
       "  </thead>\n",
       "  <tbody>\n",
       "    <tr>\n",
       "      <th>0</th>\n",
       "      <td>Goblin</td>\n",
       "      <td>2016</td>\n",
       "      <td>8.8</td>\n",
       "      <td>254,985</td>\n",
       "      <td>16</td>\n",
       "      <td>01:22</td>\n",
       "      <td>Friday, Saturday</td>\n",
       "      <td>Comedy,Romance,Fantasy,Melodrama</td>\n",
       "      <td>Older Man/Younger Woman,Interspecies Romance,D...</td>\n",
       "      <td>Gong Yoo,Kim Go Eun,Lee Dong Wook,Yoo In Na,Yo...</td>\n",
       "    </tr>\n",
       "    <tr>\n",
       "      <th>1</th>\n",
       "      <td>Strong Woman Do Bong Soon</td>\n",
       "      <td>2016</td>\n",
       "      <td>8.7</td>\n",
       "      <td>239,773</td>\n",
       "      <td>16</td>\n",
       "      <td>01:07</td>\n",
       "      <td>Friday, Saturday</td>\n",
       "      <td>Action,Comedy,Romance,Supernatural</td>\n",
       "      <td>Superhuman Strenght,Love Triangle,Nice Male Le...</td>\n",
       "      <td>Park Bo Young,Park Hyung Sik,Kim Ji Soo</td>\n",
       "    </tr>\n",
       "    <tr>\n",
       "      <th>2</th>\n",
       "      <td>It's Okay to Not Be Okay</td>\n",
       "      <td>2020</td>\n",
       "      <td>8.9</td>\n",
       "      <td>215,957</td>\n",
       "      <td>16</td>\n",
       "      <td>01:15</td>\n",
       "      <td>Saturday, Sunday</td>\n",
       "      <td>Psychological,Comedy,Romance,Drama</td>\n",
       "      <td>Independent Female Lead,Possessive Female Lead...</td>\n",
       "      <td>Kim Soo Hyun,Seo Yea Ji,Oh Jung Se</td>\n",
       "    </tr>\n",
       "    <tr>\n",
       "      <th>3</th>\n",
       "      <td>Descendants of the Sun</td>\n",
       "      <td>2016</td>\n",
       "      <td>8.6</td>\n",
       "      <td>213,187</td>\n",
       "      <td>16</td>\n",
       "      <td>01:00</td>\n",
       "      <td>Wednesday, Thursday</td>\n",
       "      <td>Action,Comedy,Romance,Supernatural</td>\n",
       "      <td>Military,Bromance,Multiple Couples,Hardworking...</td>\n",
       "      <td>Song Joong Ki,Song Hye Kyo,Jin Goo,Kim Ji Won</td>\n",
       "    </tr>\n",
       "    <tr>\n",
       "      <th>4</th>\n",
       "      <td>What's Wrong with Secretary Kim</td>\n",
       "      <td>2018</td>\n",
       "      <td>8.5</td>\n",
       "      <td>212,766</td>\n",
       "      <td>16</td>\n",
       "      <td>01:09</td>\n",
       "      <td>Wednesday, Thursday</td>\n",
       "      <td>Business,Comedy,Romance</td>\n",
       "      <td>Boss-Employee Relationship,Rich Male Lead,Adap...</td>\n",
       "      <td>Park Min Young,Park Seo Joon</td>\n",
       "    </tr>\n",
       "  </tbody>\n",
       "</table>\n",
       "</div>"
      ],
      "text/plain": [
       "                              Name  Year  Rating Watchers  Episodes  \\\n",
       "0                           Goblin  2016     8.8  254,985        16   \n",
       "1        Strong Woman Do Bong Soon  2016     8.7  239,773        16   \n",
       "2         It's Okay to Not Be Okay  2020     8.9  215,957        16   \n",
       "3           Descendants of the Sun  2016     8.6  213,187        16   \n",
       "4  What's Wrong with Secretary Kim  2018     8.5  212,766        16   \n",
       "\n",
       "  Ep. Duration             Aired On                              Genres  \\\n",
       "0        01:22     Friday, Saturday    Comedy,Romance,Fantasy,Melodrama   \n",
       "1        01:07     Friday, Saturday  Action,Comedy,Romance,Supernatural   \n",
       "2        01:15     Saturday, Sunday  Psychological,Comedy,Romance,Drama   \n",
       "3        01:00  Wednesday, Thursday  Action,Comedy,Romance,Supernatural   \n",
       "4        01:09  Wednesday, Thursday             Business,Comedy,Romance   \n",
       "\n",
       "                                                Tags  \\\n",
       "0  Older Man/Younger Woman,Interspecies Romance,D...   \n",
       "1  Superhuman Strenght,Love Triangle,Nice Male Le...   \n",
       "2  Independent Female Lead,Possessive Female Lead...   \n",
       "3  Military,Bromance,Multiple Couples,Hardworking...   \n",
       "4  Boss-Employee Relationship,Rich Male Lead,Adap...   \n",
       "\n",
       "                                         Main Actors  \n",
       "0  Gong Yoo,Kim Go Eun,Lee Dong Wook,Yoo In Na,Yo...  \n",
       "1            Park Bo Young,Park Hyung Sik,Kim Ji Soo  \n",
       "2                 Kim Soo Hyun,Seo Yea Ji,Oh Jung Se  \n",
       "3      Song Joong Ki,Song Hye Kyo,Jin Goo,Kim Ji Won  \n",
       "4                       Park Min Young,Park Seo Joon  "
      ]
     },
     "execution_count": 4,
     "metadata": {},
     "output_type": "execute_result"
    }
   ],
   "source": [
    "kdramas.head()"
   ]
  },
  {
   "cell_type": "markdown",
   "id": "5229e3e5",
   "metadata": {
    "papermill": {
     "duration": 0.002854,
     "end_time": "2025-02-18T13:50:57.653272",
     "exception": false,
     "start_time": "2025-02-18T13:50:57.650418",
     "status": "completed"
    },
    "tags": []
   },
   "source": [
    "## MOST WATCHED KDRAMA"
   ]
  },
  {
   "cell_type": "code",
   "execution_count": 5,
   "id": "6d050a45",
   "metadata": {
    "execution": {
     "iopub.execute_input": "2025-02-18T13:50:57.660667Z",
     "iopub.status.busy": "2025-02-18T13:50:57.660308Z",
     "iopub.status.idle": "2025-02-18T13:50:57.666449Z",
     "shell.execute_reply": "2025-02-18T13:50:57.665305Z"
    },
    "papermill": {
     "duration": 0.012046,
     "end_time": "2025-02-18T13:50:57.668386",
     "exception": false,
     "start_time": "2025-02-18T13:50:57.656340",
     "status": "completed"
    },
    "tags": []
   },
   "outputs": [
    {
     "name": "stdout",
     "output_type": "stream",
     "text": [
      "The most popular Kdrama was: Tomorrow with 99,622 viewers\n"
     ]
    }
   ],
   "source": [
    "no1KdramaIndex=kdramas['Watchers'].idxmax()\n",
    "no1Kdramarow=kdramas.loc[no1KdramaIndex]\n",
    "print( f\"The most popular Kdrama was: {no1Kdramarow['Name']} with {no1Kdramarow['Watchers']} viewers\")"
   ]
  },
  {
   "cell_type": "markdown",
   "id": "80578d4b",
   "metadata": {
    "papermill": {
     "duration": 0.003205,
     "end_time": "2025-02-18T13:50:57.675501",
     "exception": false,
     "start_time": "2025-02-18T13:50:57.672296",
     "status": "completed"
    },
    "tags": []
   },
   "source": [
    "### LEAST WATCHED KDRAMA"
   ]
  },
  {
   "cell_type": "code",
   "execution_count": 6,
   "id": "d379afcd",
   "metadata": {
    "execution": {
     "iopub.execute_input": "2025-02-18T13:50:57.683613Z",
     "iopub.status.busy": "2025-02-18T13:50:57.683231Z",
     "iopub.status.idle": "2025-02-18T13:50:57.688854Z",
     "shell.execute_reply": "2025-02-18T13:50:57.687691Z"
    },
    "papermill": {
     "duration": 0.011707,
     "end_time": "2025-02-18T13:50:57.690606",
     "exception": false,
     "start_time": "2025-02-18T13:50:57.678899",
     "status": "completed"
    },
    "tags": []
   },
   "outputs": [
    {
     "name": "stdout",
     "output_type": "stream",
     "text": [
      "The least popular kdrama was My Demon with 100,446 viewers\n"
     ]
    }
   ],
   "source": [
    "leastKdramaindex=kdramas['Watchers'].idxmin()\n",
    "leastKdramarow=kdramas.loc[leastKdramaindex]\n",
    "print(f\"The least popular kdrama was {leastKdramarow['Name']} with {leastKdramarow['Watchers']} viewers\")"
   ]
  },
  {
   "cell_type": "code",
   "execution_count": 7,
   "id": "c87a822d",
   "metadata": {
    "execution": {
     "iopub.execute_input": "2025-02-18T13:50:57.698537Z",
     "iopub.status.busy": "2025-02-18T13:50:57.698170Z",
     "iopub.status.idle": "2025-02-18T13:50:57.706519Z",
     "shell.execute_reply": "2025-02-18T13:50:57.705247Z"
    },
    "papermill": {
     "duration": 0.014376,
     "end_time": "2025-02-18T13:50:57.708430",
     "exception": false,
     "start_time": "2025-02-18T13:50:57.694054",
     "status": "completed"
    },
    "tags": []
   },
   "outputs": [
    {
     "name": "stdout",
     "output_type": "stream",
     "text": [
      "Max watchers: 99,622\n",
      "Min watchers: 100,446\n"
     ]
    }
   ],
   "source": [
    "print(\"Max watchers:\", kdramas['Watchers'].max())\n",
    "print(\"Min watchers:\", kdramas['Watchers'].min())\n"
   ]
  },
  {
   "cell_type": "markdown",
   "id": "002a5543",
   "metadata": {
    "papermill": {
     "duration": 0.003227,
     "end_time": "2025-02-18T13:50:57.715425",
     "exception": false,
     "start_time": "2025-02-18T13:50:57.712198",
     "status": "completed"
    },
    "tags": []
   },
   "source": [
    "### MOST WATCHED GENRE"
   ]
  }
 ],
 "metadata": {
  "kaggle": {
   "accelerator": "none",
   "dataSources": [
    {
     "datasetId": 6581869,
     "sourceId": 10661588,
     "sourceType": "datasetVersion"
    }
   ],
   "dockerImageVersionId": 30886,
   "isGpuEnabled": false,
   "isInternetEnabled": true,
   "language": "python",
   "sourceType": "notebook"
  },
  "kernelspec": {
   "display_name": "Python 3",
   "language": "python",
   "name": "python3"
  },
  "language_info": {
   "codemirror_mode": {
    "name": "ipython",
    "version": 3
   },
   "file_extension": ".py",
   "mimetype": "text/x-python",
   "name": "python",
   "nbconvert_exporter": "python",
   "pygments_lexer": "ipython3",
   "version": "3.10.12"
  },
  "papermill": {
   "default_parameters": {},
   "duration": 6.372476,
   "end_time": "2025-02-18T13:50:58.440328",
   "environment_variables": {},
   "exception": null,
   "input_path": "__notebook__.ipynb",
   "output_path": "__notebook__.ipynb",
   "parameters": {},
   "start_time": "2025-02-18T13:50:52.067852",
   "version": "2.6.0"
  }
 },
 "nbformat": 4,
 "nbformat_minor": 5
}
